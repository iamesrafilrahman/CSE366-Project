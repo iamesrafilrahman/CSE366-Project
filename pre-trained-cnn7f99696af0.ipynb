{
 "cells": [
  {
   "cell_type": "code",
   "execution_count": 1,
   "id": "f8f4be88",
   "metadata": {
    "execution": {
     "iopub.execute_input": "2025-07-13T10:55:17.739990Z",
     "iopub.status.busy": "2025-07-13T10:55:17.739686Z",
     "iopub.status.idle": "2025-07-13T10:55:21.707748Z",
     "shell.execute_reply": "2025-07-13T10:55:21.706969Z"
    },
    "executionInfo": {
     "elapsed": 6705,
     "status": "ok",
     "timestamp": 1716718913876,
     "user": {
      "displayName": "Beautiful Mind",
      "userId": "18088270031962857328"
     },
     "user_tz": -360
    },
    "id": "dy2_B330BNLz",
    "outputId": "db790309-debe-4294-f641-3d957fa8b00e",
    "papermill": {
     "duration": 3.976136,
     "end_time": "2025-07-13T10:55:21.709358",
     "exception": false,
     "start_time": "2025-07-13T10:55:17.733222",
     "status": "completed"
    },
    "tags": []
   },
   "outputs": [
    {
     "name": "stdout",
     "output_type": "stream",
     "text": [
      "Requirement already satisfied: torchinfo in /usr/local/lib/python3.11/dist-packages (1.8.0)\r\n"
     ]
    }
   ],
   "source": [
    "!pip install torchinfo"
   ]
  },
  {
   "cell_type": "markdown",
   "id": "385a2308",
   "metadata": {
    "id": "2834ab4a",
    "papermill": {
     "duration": 0.004351,
     "end_time": "2025-07-13T10:55:21.718863",
     "exception": false,
     "start_time": "2025-07-13T10:55:21.714512",
     "status": "completed"
    },
    "tags": []
   },
   "source": [
    "### Import Libraries"
   ]
  },
  {
   "cell_type": "code",
   "execution_count": 2,
   "id": "29c7b060",
   "metadata": {
    "execution": {
     "iopub.execute_input": "2025-07-13T10:55:21.729225Z",
     "iopub.status.busy": "2025-07-13T10:55:21.728589Z",
     "iopub.status.idle": "2025-07-13T10:55:34.340721Z",
     "shell.execute_reply": "2025-07-13T10:55:34.340119Z"
    },
    "executionInfo": {
     "elapsed": 8211,
     "status": "ok",
     "timestamp": 1716718955598,
     "user": {
      "displayName": "Beautiful Mind",
      "userId": "18088270031962857328"
     },
     "user_tz": -360
    },
    "id": "038533d3",
    "papermill": {
     "duration": 12.618847,
     "end_time": "2025-07-13T10:55:34.342150",
     "exception": false,
     "start_time": "2025-07-13T10:55:21.723303",
     "status": "completed"
    },
    "tags": []
   },
   "outputs": [],
   "source": [
    "import time\n",
    "import os\n",
    "import pandas as pd\n",
    "from sklearn.model_selection import train_test_split\n",
    "from torchvision import datasets, transforms\n",
    "from torch.utils.data import DataLoader\n",
    "from sklearn.metrics import classification_report\n",
    "import numpy as np\n",
    "import cv2\n",
    "import torch\n",
    "from torch import nn\n",
    "import torch.nn.functional as F\n",
    "from torch.utils.data import DataLoader, Dataset\n",
    "import torchvision\n",
    "from torchvision import transforms\n",
    "from torchinfo import summary\n",
    "import torchvision.models as models\n",
    "import torch.optim as optim\n",
    "from torch.optim.lr_scheduler import StepLR\n",
    "from tqdm.notebook import tqdm\n",
    "from sklearn.metrics import accuracy_score\n",
    "import PIL\n",
    "import matplotlib.pyplot as plt\n",
    "import seaborn as sns\n",
    "import time\n",
    "from collections import OrderedDict\n",
    "import platform\n",
    "import psutil\n",
    "import random\n",
    "import glob\n",
    "from tqdm import tqdm\n",
    "from PIL import Image\n",
    "from torchvision import transforms\n",
    "from torchvision.transforms import ColorJitter, RandomRotation, RandomResizedCrop\n",
    "from torchvision.transforms.functional import gaussian_blur\n",
    "from PIL import ImageOps\n",
    "from tabulate import tabulate"
   ]
  },
  {
   "cell_type": "markdown",
   "id": "e34f4662",
   "metadata": {
    "id": "4xJhbrSK0gQ9",
    "papermill": {
     "duration": 0.004369,
     "end_time": "2025-07-13T10:55:34.351393",
     "exception": false,
     "start_time": "2025-07-13T10:55:34.347024",
     "status": "completed"
    },
    "tags": []
   },
   "source": [
    "### Configuration"
   ]
  },
  {
   "cell_type": "code",
   "execution_count": 3,
   "id": "7d92296f",
   "metadata": {
    "execution": {
     "iopub.execute_input": "2025-07-13T10:55:34.362092Z",
     "iopub.status.busy": "2025-07-13T10:55:34.361377Z",
     "iopub.status.idle": "2025-07-13T10:55:34.392856Z",
     "shell.execute_reply": "2025-07-13T10:55:34.391927Z"
    },
    "executionInfo": {
     "elapsed": 610,
     "status": "ok",
     "timestamp": 1716718956202,
     "user": {
      "displayName": "Beautiful Mind",
      "userId": "18088270031962857328"
     },
     "user_tz": -360
    },
    "id": "cwym0M9m0i0B",
    "outputId": "45b0306c-9ba1-476a-dfc1-9738c84c2442",
    "papermill": {
     "duration": 0.038293,
     "end_time": "2025-07-13T10:55:34.394284",
     "exception": false,
     "start_time": "2025-07-13T10:55:34.355991",
     "status": "completed"
    },
    "tags": []
   },
   "outputs": [
    {
     "name": "stdout",
     "output_type": "stream",
     "text": [
      "CPU: x86_64\n",
      "Total RAM (GB): 31.35\n",
      "GPU: Tesla P100-PCIE-16GB\n"
     ]
    }
   ],
   "source": [
    "cpu_info = platform.processor()\n",
    "\n",
    "ram_info = psutil.virtual_memory()\n",
    "total_ram_gb = ram_info.total / (1024 ** 3)\n",
    "\n",
    "try:\n",
    "    gpu_info = !nvidia-smi --query-gpu=gpu_name --format=csv\n",
    "    gpu_name = gpu_info[1]\n",
    "except:\n",
    "    gpu_name = \"No GPU available\"\n",
    "\n",
    "print(\"CPU:\", cpu_info)\n",
    "print(\"Total RAM (GB):\", round(total_ram_gb, 2))\n",
    "print(\"GPU:\", gpu_name)"
   ]
  },
  {
   "cell_type": "markdown",
   "id": "accd233b",
   "metadata": {
    "id": "CRgBEPljUhNn",
    "papermill": {
     "duration": 0.004498,
     "end_time": "2025-07-13T10:55:34.403678",
     "exception": false,
     "start_time": "2025-07-13T10:55:34.399180",
     "status": "completed"
    },
    "tags": []
   },
   "source": [
    "### Seed Value"
   ]
  },
  {
   "cell_type": "code",
   "execution_count": 4,
   "id": "e91b7430",
   "metadata": {
    "execution": {
     "iopub.execute_input": "2025-07-13T10:55:34.414490Z",
     "iopub.status.busy": "2025-07-13T10:55:34.414199Z",
     "iopub.status.idle": "2025-07-13T10:55:34.423447Z",
     "shell.execute_reply": "2025-07-13T10:55:34.422717Z"
    },
    "executionInfo": {
     "elapsed": 2,
     "status": "ok",
     "timestamp": 1716718956202,
     "user": {
      "displayName": "Beautiful Mind",
      "userId": "18088270031962857328"
     },
     "user_tz": -360
    },
    "id": "3tE_XYp4UgnV",
    "papermill": {
     "duration": 0.015625,
     "end_time": "2025-07-13T10:55:34.424572",
     "exception": false,
     "start_time": "2025-07-13T10:55:34.408947",
     "status": "completed"
    },
    "tags": []
   },
   "outputs": [],
   "source": [
    "seed = 1\n",
    "torch.manual_seed(seed)\n",
    "torch.cuda.manual_seed(seed)\n",
    "np.random.seed(seed)\n",
    "random.seed(seed)"
   ]
  },
  {
   "cell_type": "markdown",
   "id": "26b3ea12",
   "metadata": {
    "id": "cf72bea6",
    "papermill": {
     "duration": 0.004228,
     "end_time": "2025-07-13T10:55:34.433406",
     "exception": false,
     "start_time": "2025-07-13T10:55:34.429178",
     "status": "completed"
    },
    "tags": []
   },
   "source": [
    "### Loading Dataset"
   ]
  },
  {
   "cell_type": "code",
   "execution_count": 5,
   "id": "9ab0ef41",
   "metadata": {
    "execution": {
     "iopub.execute_input": "2025-07-13T10:55:34.443342Z",
     "iopub.status.busy": "2025-07-13T10:55:34.443070Z",
     "iopub.status.idle": "2025-07-13T10:55:34.511795Z",
     "shell.execute_reply": "2025-07-13T10:55:34.510856Z"
    },
    "executionInfo": {
     "elapsed": 4216,
     "status": "ok",
     "timestamp": 1716718960416,
     "user": {
      "displayName": "Beautiful Mind",
      "userId": "18088270031962857328"
     },
     "user_tz": -360
    },
    "id": "d4079ea7",
    "papermill": {
     "duration": 0.075511,
     "end_time": "2025-07-13T10:55:34.513313",
     "exception": false,
     "start_time": "2025-07-13T10:55:34.437802",
     "status": "completed"
    },
    "tags": []
   },
   "outputs": [],
   "source": [
    "data_dir = \"/kaggle/input/coffee-bean-dataset/Coffee Bean Dataset\"\n",
    "\n",
    "file_paths = []\n",
    "labels = []\n",
    "\n",
    "for class_name in os.listdir(data_dir):\n",
    "    class_dir = os.path.join(data_dir, class_name)\n",
    "    for image_name in os.listdir(class_dir):\n",
    "        file_paths.append(os.path.join(class_dir, image_name))\n",
    "        labels.append(class_name)\n",
    "\n",
    "df = pd.DataFrame({\"file_path\": file_paths, \"label\": labels})\n",
    "df = df.sample(frac=1).reset_index(drop=True)"
   ]
  },
  {
   "cell_type": "code",
   "execution_count": 6,
   "id": "58de64a8",
   "metadata": {
    "execution": {
     "iopub.execute_input": "2025-07-13T10:55:34.526861Z",
     "iopub.status.busy": "2025-07-13T10:55:34.526506Z",
     "iopub.status.idle": "2025-07-13T10:55:34.751622Z",
     "shell.execute_reply": "2025-07-13T10:55:34.750823Z"
    },
    "executionInfo": {
     "elapsed": 1507,
     "status": "ok",
     "timestamp": 1716718961901,
     "user": {
      "displayName": "Beautiful Mind",
      "userId": "18088270031962857328"
     },
     "user_tz": -360
    },
    "id": "ee7d9da9",
    "outputId": "319581e7-6951-426a-a24e-02f80e4dfc60",
    "papermill": {
     "duration": 0.232434,
     "end_time": "2025-07-13T10:55:34.752810",
     "exception": false,
     "start_time": "2025-07-13T10:55:34.520376",
     "status": "completed"
    },
    "tags": []
   },
   "outputs": [
    {
     "name": "stdout",
     "output_type": "stream",
     "text": [
      "Class: Dark, Count: 400\n",
      "Class: Medium, Count: 400\n",
      "Class: Green, Count: 400\n",
      "Class: Light, Count: 400\n"
     ]
    },
    {
     "data": {
      "image/png": "[encoded data removed]",
      "text/plain": [
       "<Figure size 600x400 with 1 Axes>"
      ]
     },
     "metadata": {},
     "output_type": "display_data"
    }
   ],
   "source": [
    "class_counts_train = df['label'].value_counts()\n",
    "\n",
    "for class_name, count in class_counts_train.items():\n",
    "    print(f\"Class: {class_name}, Count: {count}\")\n",
    "\n",
    "plt.figure(figsize=(6, 4))\n",
    "ax = class_counts_train.plot(kind='bar')\n",
    "plt.xlabel('Classes')\n",
    "plt.ylabel('Amount of data')\n",
    "plt.xticks(rotation=360)\n",
    "for i, count in enumerate(class_counts_train):\n",
    "    ax.text(i, count + 5, str(count), ha='center')\n",
    "plt.ylim(0, max(class_counts_train) * 1.2)\n",
    "plt.show()"
   ]
  },
  {
   "cell_type": "code",
   "execution_count": 7,
   "id": "f2dc80de",
   "metadata": {
    "execution": {
     "iopub.execute_input": "2025-07-13T10:55:34.764326Z",
     "iopub.status.busy": "2025-07-13T10:55:34.764047Z",
     "iopub.status.idle": "2025-07-13T10:55:34.923605Z",
     "shell.execute_reply": "2025-07-13T10:55:34.922772Z"
    },
    "executionInfo": {
     "elapsed": 885,
     "status": "ok",
     "timestamp": 1716718962779,
     "user": {
      "displayName": "Beautiful Mind",
      "userId": "18088270031962857328"
     },
     "user_tz": -360
    },
    "id": "_sf1e_3zXxmn",
    "outputId": "73d66b18-e71b-48f7-ca3b-26ab9f0f0690",
    "papermill": {
     "duration": 0.16938,
     "end_time": "2025-07-13T10:55:34.927550",
     "exception": false,
     "start_time": "2025-07-13T10:55:34.758170",
     "status": "completed"
    },
    "tags": []
   },
   "outputs": [
    {
     "data": {
      "image/png": "[encoded data removed]",
      "text/plain": [
       "<Figure size 640x480 with 1 Axes>"
      ]
     },
     "metadata": {},
     "output_type": "display_data"
    }
   ],
   "source": [
    "random_index = random.randint(1, len(df) - 1)\n",
    "random_row = df.iloc[random_index]\n",
    "\n",
    "file_path = random_row['file_path']\n",
    "label = random_row['label']\n",
    "\n",
    "image = Image.open(file_path)\n",
    "plt.imshow(image)\n",
    "plt.title(f\"Label: {label}\")\n",
    "plt.axis('off')\n",
    "plt.show()"
   ]
  },
  {
   "cell_type": "markdown",
   "id": "8acd6161",
   "metadata": {
    "id": "1c60ef68",
    "papermill": {
     "duration": 0.007602,
     "end_time": "2025-07-13T10:55:34.943143",
     "exception": false,
     "start_time": "2025-07-13T10:55:34.935541",
     "status": "completed"
    },
    "tags": []
   },
   "source": [
    "### Train-Test-Validation Split (Ratio 70:15:15)"
   ]
  },
  {
   "cell_type": "code",
   "execution_count": 8,
   "id": "2512c22b",
   "metadata": {
    "execution": {
     "iopub.execute_input": "2025-07-13T10:55:34.959525Z",
     "iopub.status.busy": "2025-07-13T10:55:34.959242Z",
     "iopub.status.idle": "2025-07-13T10:55:34.969735Z",
     "shell.execute_reply": "2025-07-13T10:55:34.968886Z"
    },
    "executionInfo": {
     "elapsed": 13,
     "status": "ok",
     "timestamp": 1716718965705,
     "user": {
      "displayName": "Beautiful Mind",
      "userId": "18088270031962857328"
     },
     "user_tz": -360
    },
    "id": "1a3b67e0",
    "papermill": {
     "duration": 0.020379,
     "end_time": "2025-07-13T10:55:34.971132",
     "exception": false,
     "start_time": "2025-07-13T10:55:34.950753",
     "status": "completed"
    },
    "tags": []
   },
   "outputs": [],
   "source": [
    "train_dataframe, temp_dataframe = train_test_split(df, test_size=0.30, \n",
    "                                     stratify=df['label'], random_state=42)\n",
    "valid_dataframe, test_df = train_test_split(temp_dataframe, test_size=0.50, \n",
    "                                            stratify=temp_dataframe['label'], random_state=42)"
   ]
  },
  {
   "cell_type": "code",
   "execution_count": 9,
   "id": "a9e41bec",
   "metadata": {
    "execution": {
     "iopub.execute_input": "2025-07-13T10:55:34.988678Z",
     "iopub.status.busy": "2025-07-13T10:55:34.988106Z",
     "iopub.status.idle": "2025-07-13T10:55:34.992845Z",
     "shell.execute_reply": "2025-07-13T10:55:34.991962Z"
    },
    "executionInfo": {
     "elapsed": 7,
     "status": "ok",
     "timestamp": 1716718965706,
     "user": {
      "displayName": "Beautiful Mind",
      "userId": "18088270031962857328"
     },
     "user_tz": -360
    },
    "id": "77693087",
    "outputId": "c8ce0285-6b8a-4028-ae1b-a967bb097ca5",
    "papermill": {
     "duration": 0.014608,
     "end_time": "2025-07-13T10:55:34.994045",
     "exception": false,
     "start_time": "2025-07-13T10:55:34.979437",
     "status": "completed"
    },
    "tags": []
   },
   "outputs": [
    {
     "name": "stdout",
     "output_type": "stream",
     "text": [
      "Training Data:  1120\n",
      "Validation Data:  240\n",
      "Test Data:  240\n",
      "-------------------------------------------\n",
      "Total amounts of data in the dataset:  1600\n"
     ]
    }
   ],
   "source": [
    "print(\"Training Data: \", len(train_dataframe))\n",
    "print(\"Validation Data: \", len(valid_dataframe))\n",
    "print(\"Test Data: \", len(test_df))\n",
    "print(\"-------------------------------------------\")\n",
    "print(\"Total amounts of data in the dataset: \", len(df))"
   ]
  },
  {
   "cell_type": "code",
   "execution_count": 10,
   "id": "060b934d",
   "metadata": {
    "execution": {
     "iopub.execute_input": "2025-07-13T10:55:35.011431Z",
     "iopub.status.busy": "2025-07-13T10:55:35.010716Z",
     "iopub.status.idle": "2025-07-13T10:55:35.020529Z",
     "shell.execute_reply": "2025-07-13T10:55:35.019569Z"
    },
    "executionInfo": {
     "elapsed": 6,
     "status": "ok",
     "timestamp": 1716718965706,
     "user": {
      "displayName": "Beautiful Mind",
      "userId": "18088270031962857328"
     },
     "user_tz": -360
    },
    "id": "606a0646",
    "outputId": "06240078-a839-4907-cf7d-d40121fa28c1",
    "papermill": {
     "duration": 0.019755,
     "end_time": "2025-07-13T10:55:35.021699",
     "exception": false,
     "start_time": "2025-07-13T10:55:35.001944",
     "status": "completed"
    },
    "tags": []
   },
   "outputs": [
    {
     "name": "stdout",
     "output_type": "stream",
     "text": [
      "Train Dataset\n",
      "Class      Count\n",
      "-------  -------\n",
      "Dark         280\n",
      "Green        280\n",
      "Light        280\n",
      "Medium       280\n",
      "\n",
      "Validation Dataset\n",
      "Class      Count\n",
      "-------  -------\n",
      "Dark          60\n",
      "Light         60\n",
      "Green         60\n",
      "Medium        60\n",
      "\n",
      "Test Dataset\n",
      "Class      Count\n",
      "-------  -------\n",
      "Medium        60\n",
      "Green         60\n",
      "Light         60\n",
      "Dark          60\n"
     ]
    }
   ],
   "source": [
    "class_counts_train = train_dataframe['label'].value_counts()\n",
    "class_counts_valid = valid_dataframe['label'].value_counts()\n",
    "class_counts_test = test_df['label'].value_counts()\n",
    "\n",
    "train_table_data = [[class_name, count] for class_name, count in class_counts_train.items()]\n",
    "valid_table_data = [[class_name, count] for class_name, count in class_counts_valid.items()]\n",
    "test_table_data = [[class_name, count] for class_name, count in class_counts_test.items()]\n",
    "\n",
    "print(\"Train Dataset\")\n",
    "print(tabulate(train_table_data, headers=[\"Class\", \"Count\"]))\n",
    "print(\"\\nValidation Dataset\")\n",
    "print(tabulate(valid_table_data, headers=[\"Class\", \"Count\"]))\n",
    "print(\"\\nTest Dataset\")\n",
    "print(tabulate(test_table_data, headers=[\"Class\", \"Count\"]))"
   ]
  },
  {
   "cell_type": "markdown",
   "id": "44e0808d",
   "metadata": {
    "id": "2a8db9c0",
    "papermill": {
     "duration": 0.007707,
     "end_time": "2025-07-13T10:55:35.037396",
     "exception": false,
     "start_time": "2025-07-13T10:55:35.029689",
     "status": "completed"
    },
    "tags": []
   },
   "source": [
    "### Device Variable"
   ]
  },
  {
   "cell_type": "code",
   "execution_count": 11,
   "id": "d1452a6d",
   "metadata": {
    "execution": {
     "iopub.execute_input": "2025-07-13T10:55:35.054054Z",
     "iopub.status.busy": "2025-07-13T10:55:35.053772Z",
     "iopub.status.idle": "2025-07-13T10:55:35.112946Z",
     "shell.execute_reply": "2025-07-13T10:55:35.112319Z"
    },
    "executionInfo": {
     "elapsed": 4,
     "status": "ok",
     "timestamp": 1716718965706,
     "user": {
      "displayName": "Beautiful Mind",
      "userId": "18088270031962857328"
     },
     "user_tz": -360
    },
    "id": "cbecfbfc",
    "papermill": {
     "duration": 0.068704,
     "end_time": "2025-07-13T10:55:35.114000",
     "exception": false,
     "start_time": "2025-07-13T10:55:35.045296",
     "status": "completed"
    },
    "tags": []
   },
   "outputs": [],
   "source": [
    "device = torch.device('cuda' if torch.cuda.is_available() else 'cpu')"
   ]
  },
  {
   "cell_type": "markdown",
   "id": "2f359010",
   "metadata": {
    "id": "65dbd001",
    "papermill": {
     "duration": 0.007775,
     "end_time": "2025-07-13T10:55:35.129786",
     "exception": false,
     "start_time": "2025-07-13T10:55:35.122011",
     "status": "completed"
    },
    "tags": []
   },
   "source": [
    "### Checkpoint"
   ]
  },
  {
   "cell_type": "code",
   "execution_count": 12,
   "id": "9dfbf319",
   "metadata": {
    "execution": {
     "iopub.execute_input": "2025-07-13T10:55:35.148254Z",
     "iopub.status.busy": "2025-07-13T10:55:35.147541Z",
     "iopub.status.idle": "2025-07-13T10:55:35.151205Z",
     "shell.execute_reply": "2025-07-13T10:55:35.150645Z"
    },
    "executionInfo": {
     "elapsed": 583,
     "status": "ok",
     "timestamp": 1716718966285,
     "user": {
      "displayName": "Beautiful Mind",
      "userId": "18088270031962857328"
     },
     "user_tz": -360
    },
    "id": "fa09cea1",
    "papermill": {
     "duration": 0.013718,
     "end_time": "2025-07-13T10:55:35.152265",
     "exception": false,
     "start_time": "2025-07-13T10:55:35.138547",
     "status": "completed"
    },
    "tags": []
   },
   "outputs": [],
   "source": [
    "save_path_checkpoints = \"/kaggle/working/\"\n",
    "os.makedirs(save_path_checkpoints, exist_ok=True)"
   ]
  },
  {
   "cell_type": "markdown",
   "id": "9135e78a",
   "metadata": {
    "id": "2473bec6",
    "papermill": {
     "duration": 0.008037,
     "end_time": "2025-07-13T10:55:35.168224",
     "exception": false,
     "start_time": "2025-07-13T10:55:35.160187",
     "status": "completed"
    },
    "tags": []
   },
   "source": [
    "### Dataset Class, Dataloader and Transform"
   ]
  },
  {
   "cell_type": "code",
   "execution_count": 13,
   "id": "59435453",
   "metadata": {
    "execution": {
     "iopub.execute_input": "2025-07-13T10:55:35.185506Z",
     "iopub.status.busy": "2025-07-13T10:55:35.184946Z",
     "iopub.status.idle": "2025-07-13T10:55:35.190664Z",
     "shell.execute_reply": "2025-07-13T10:55:35.189903Z"
    },
    "executionInfo": {
     "elapsed": 4,
     "status": "ok",
     "timestamp": 1716718966285,
     "user": {
      "displayName": "Beautiful Mind",
      "userId": "18088270031962857328"
     },
     "user_tz": -360
    },
    "id": "74560017",
    "papermill": {
     "duration": 0.015635,
     "end_time": "2025-07-13T10:55:35.191849",
     "exception": false,
     "start_time": "2025-07-13T10:55:35.176214",
     "status": "completed"
    },
    "tags": []
   },
   "outputs": [],
   "source": [
    "class ImageDataset(Dataset):\n",
    "    def __init__(self, dataframe, normalize, is_lb=False):\n",
    "        self.dataframe = dataframe\n",
    "        self.normalize = normalize\n",
    "        self.is_lb = is_lb\n",
    "        self.label_map = {'Dark': 0, 'Green': 1, 'Light': 2, 'Medium': 3}\n",
    "\n",
    "    def __len__(self):\n",
    "        return len(self.dataframe)\n",
    "\n",
    "    def __getitem__(self, index):\n",
    "        img_path = self.dataframe.iloc[index]['file_path']\n",
    "        image = PIL.Image.open(img_path)\n",
    "\n",
    "        if self.is_lb:\n",
    "            label = self.label_map[self.dataframe.iloc[index]['label']]\n",
    "            return self.normalize(image), label\n",
    "        else:\n",
    "            return self.normalize(image), self.normalize(image)"
   ]
  },
  {
   "cell_type": "code",
   "execution_count": 14,
   "id": "99cd3bf6",
   "metadata": {
    "execution": {
     "iopub.execute_input": "2025-07-13T10:55:35.209200Z",
     "iopub.status.busy": "2025-07-13T10:55:35.208893Z",
     "iopub.status.idle": "2025-07-13T10:55:35.214800Z",
     "shell.execute_reply": "2025-07-13T10:55:35.214057Z"
    },
    "executionInfo": {
     "elapsed": 4,
     "status": "ok",
     "timestamp": 1716718966286,
     "user": {
      "displayName": "Beautiful Mind",
      "userId": "18088270031962857328"
     },
     "user_tz": -360
    },
    "id": "e72ed5a1",
    "papermill": {
     "duration": 0.016049,
     "end_time": "2025-07-13T10:55:35.216099",
     "exception": false,
     "start_time": "2025-07-13T10:55:35.200050",
     "status": "completed"
    },
    "tags": []
   },
   "outputs": [],
   "source": [
    "train_batch = 32\n",
    "val_batch = 8\n",
    "\n",
    "def data_transfrom():\n",
    "    normalize = transforms.Compose([\n",
    "            transforms.Resize((224,224)),\n",
    "            transforms.ToTensor()])\n",
    "\n",
    "    train_dataset = ImageDataset (\n",
    "        train_dataframe,\n",
    "        normalize,\n",
    "        is_lb=True\n",
    "    )\n",
    "\n",
    "    valid_dataset = ImageDataset(\n",
    "        valid_dataframe,\n",
    "        normalize,\n",
    "        is_lb=True\n",
    "    )\n",
    "\n",
    "    test_dataset = ImageDataset(\n",
    "        test_df,\n",
    "        normalize,\n",
    "        is_lb=True\n",
    "    )\n",
    "\n",
    "    dataloader_train_dataset = DataLoader(train_dataset, batch_size = train_batch, shuffle=True, num_workers=2)\n",
    "    dataloader_valid_dataset = DataLoader(valid_dataset, batch_size = val_batch, shuffle=False, num_workers=2)\n",
    "    dataloader_test_dataset = DataLoader(test_dataset, batch_size = val_batch, shuffle=False, num_workers=2)\n",
    "\n",
    "    return dataloader_train_dataset, dataloader_valid_dataset, dataloader_test_dataset\n",
    "\n",
    "dataloader_train_dataset, dataloader_valid_dataset, dataloader_test_dataset = data_transfrom()"
   ]
  },
  {
   "cell_type": "markdown",
   "id": "4dae1da9",
   "metadata": {
    "id": "21be3d22",
    "papermill": {
     "duration": 0.007869,
     "end_time": "2025-07-13T10:55:35.232200",
     "exception": false,
     "start_time": "2025-07-13T10:55:35.224331",
     "status": "completed"
    },
    "tags": []
   },
   "source": [
    "### Neural Network (ResNet)"
   ]
  },
  {
   "cell_type": "code",
   "execution_count": 15,
   "id": "71d08e01",
   "metadata": {
    "execution": {
     "iopub.execute_input": "2025-07-13T10:55:35.249208Z",
     "iopub.status.busy": "2025-07-13T10:55:35.248893Z",
     "iopub.status.idle": "2025-07-13T10:55:37.152508Z",
     "shell.execute_reply": "2025-07-13T10:55:37.151835Z"
    },
    "executionInfo": {
     "elapsed": 5983,
     "status": "ok",
     "timestamp": 1716718972265,
     "user": {
      "displayName": "Beautiful Mind",
      "userId": "18088270031962857328"
     },
     "user_tz": -360
    },
    "id": "2b887889",
    "outputId": "23a82943-67c9-4711-bc0c-58711a8d5396",
    "papermill": {
     "duration": 1.913698,
     "end_time": "2025-07-13T10:55:37.153864",
     "exception": false,
     "start_time": "2025-07-13T10:55:35.240166",
     "status": "completed"
    },
    "tags": []
   },
   "outputs": [
    {
     "name": "stderr",
     "output_type": "stream",
     "text": [
      "/usr/local/lib/python3.11/dist-packages/torchvision/models/_utils.py:208: UserWarning: The parameter 'pretrained' is deprecated since 0.13 and may be removed in the future, please use 'weights' instead.\n",
      "  warnings.warn(\n",
      "/usr/local/lib/python3.11/dist-packages/torchvision/models/_utils.py:223: UserWarning: Arguments other than a weight enum or `None` for 'weights' are deprecated since 0.13 and may be removed in the future. The current behavior is equivalent to passing `weights=ResNet50_Weights.IMAGENET1K_V1`. You can also use `weights=ResNet50_Weights.DEFAULT` to get the most up-to-date weights.\n",
      "  warnings.warn(msg)\n",
      "Downloading: \"https://download.pytorch.org/models/resnet50-0676ba61.pth\" to /root/.cache/torch/hub/checkpoints/resnet50-0676ba61.pth\n",
      "100%|██████████| 97.8M/97.8M [00:00<00:00, 224MB/s]\n"
     ]
    },
    {
     "data": {
      "text/plain": [
       "==========================================================================================\n",
       "Layer (type:depth-idx)                   Output Shape              Param #\n",
       "==========================================================================================\n",
       "ResNet                                   [32, 4]                   --\n",
       "├─Conv2d: 1-1                            [32, 64, 112, 112]        9,408\n",
       "├─BatchNorm2d: 1-2                       [32, 64, 112, 112]        128\n",
       "├─ReLU: 1-3                              [32, 64, 112, 112]        --\n",
       "├─MaxPool2d: 1-4                         [32, 64, 56, 56]          --\n",
       "├─Sequential: 1-5                        [32, 256, 56, 56]         --\n",
       "│    └─Bottleneck: 2-1                   [32, 256, 56, 56]         --\n",
       "│    │    └─Conv2d: 3-1                  [32, 64, 56, 56]          4,096\n",
       "│    │    └─BatchNorm2d: 3-2             [32, 64, 56, 56]          128\n",
       "│    │    └─ReLU: 3-3                    [32, 64, 56, 56]          --\n",
       "│    │    └─Conv2d: 3-4                  [32, 64, 56, 56]          36,864\n",
       "│    │    └─BatchNorm2d: 3-5             [32, 64, 56, 56]          128\n",
       "│    │    └─ReLU: 3-6                    [32, 64, 56, 56]          --\n",
       "│    │    └─Conv2d: 3-7                  [32, 256, 56, 56]         16,384\n",
       "│    │    └─BatchNorm2d: 3-8             [32, 256, 56, 56]         512\n",
       "│    │    └─Sequential: 3-9              [32, 256, 56, 56]         16,896\n",
       "│    │    └─ReLU: 3-10                   [32, 256, 56, 56]         --\n",
       "│    └─Bottleneck: 2-2                   [32, 256, 56, 56]         --\n",
       "│    │    └─Conv2d: 3-11                 [32, 64, 56, 56]          16,384\n",
       "│    │    └─BatchNorm2d: 3-12            [32, 64, 56, 56]          128\n",
       "│    │    └─ReLU: 3-13                   [32, 64, 56, 56]          --\n",
       "│    │    └─Conv2d: 3-14                 [32, 64, 56, 56]          36,864\n",
       "│    │    └─BatchNorm2d: 3-15            [32, 64, 56, 56]          128\n",
       "│    │    └─ReLU: 3-16                   [32, 64, 56, 56]          --\n",
       "│    │    └─Conv2d: 3-17                 [32, 256, 56, 56]         16,384\n",
       "│    │    └─BatchNorm2d: 3-18            [32, 256, 56, 56]         512\n",
       "│    │    └─ReLU: 3-19                   [32, 256, 56, 56]         --\n",
       "│    └─Bottleneck: 2-3                   [32, 256, 56, 56]         --\n",
       "│    │    └─Conv2d: 3-20                 [32, 64, 56, 56]          16,384\n",
       "│    │    └─BatchNorm2d: 3-21            [32, 64, 56, 56]          128\n",
       "│    │    └─ReLU: 3-22                   [32, 64, 56, 56]          --\n",
       "│    │    └─Conv2d: 3-23                 [32, 64, 56, 56]          36,864\n",
       "│    │    └─BatchNorm2d: 3-24            [32, 64, 56, 56]          128\n",
       "│    │    └─ReLU: 3-25                   [32, 64, 56, 56]          --\n",
       "│    │    └─Conv2d: 3-26                 [32, 256, 56, 56]         16,384\n",
       "│    │    └─BatchNorm2d: 3-27            [32, 256, 56, 56]         512\n",
       "│    │    └─ReLU: 3-28                   [32, 256, 56, 56]         --\n",
       "├─Sequential: 1-6                        [32, 512, 28, 28]         --\n",
       "│    └─Bottleneck: 2-4                   [32, 512, 28, 28]         --\n",
       "│    │    └─Conv2d: 3-29                 [32, 128, 56, 56]         32,768\n",
       "│    │    └─BatchNorm2d: 3-30            [32, 128, 56, 56]         256\n",
       "│    │    └─ReLU: 3-31                   [32, 128, 56, 56]         --\n",
       "│    │    └─Conv2d: 3-32                 [32, 128, 28, 28]         147,456\n",
       "│    │    └─BatchNorm2d: 3-33            [32, 128, 28, 28]         256\n",
       "│    │    └─ReLU: 3-34                   [32, 128, 28, 28]         --\n",
       "│    │    └─Conv2d: 3-35                 [32, 512, 28, 28]         65,536\n",
       "│    │    └─BatchNorm2d: 3-36            [32, 512, 28, 28]         1,024\n",
       "│    │    └─Sequential: 3-37             [32, 512, 28, 28]         132,096\n",
       "│    │    └─ReLU: 3-38                   [32, 512, 28, 28]         --\n",
       "│    └─Bottleneck: 2-5                   [32, 512, 28, 28]         --\n",
       "│    │    └─Conv2d: 3-39                 [32, 128, 28, 28]         65,536\n",
       "│    │    └─BatchNorm2d: 3-40            [32, 128, 28, 28]         256\n",
       "│    │    └─ReLU: 3-41                   [32, 128, 28, 28]         --\n",
       "│    │    └─Conv2d: 3-42                 [32, 128, 28, 28]         147,456\n",
       "│    │    └─BatchNorm2d: 3-43            [32, 128, 28, 28]         256\n",
       "│    │    └─ReLU: 3-44                   [32, 128, 28, 28]         --\n",
       "│    │    └─Conv2d: 3-45                 [32, 512, 28, 28]         65,536\n",
       "│    │    └─BatchNorm2d: 3-46            [32, 512, 28, 28]         1,024\n",
       "│    │    └─ReLU: 3-47                   [32, 512, 28, 28]         --\n",
       "│    └─Bottleneck: 2-6                   [32, 512, 28, 28]         --\n",
       "│    │    └─Conv2d: 3-48                 [32, 128, 28, 28]         65,536\n",
       "│    │    └─BatchNorm2d: 3-49            [32, 128, 28, 28]         256\n",
       "│    │    └─ReLU: 3-50                   [32, 128, 28, 28]         --\n",
       "│    │    └─Conv2d: 3-51                 [32, 128, 28, 28]         147,456\n",
       "│    │    └─BatchNorm2d: 3-52            [32, 128, 28, 28]         256\n",
       "│    │    └─ReLU: 3-53                   [32, 128, 28, 28]         --\n",
       "│    │    └─Conv2d: 3-54                 [32, 512, 28, 28]         65,536\n",
       "│    │    └─BatchNorm2d: 3-55            [32, 512, 28, 28]         1,024\n",
       "│    │    └─ReLU: 3-56                   [32, 512, 28, 28]         --\n",
       "│    └─Bottleneck: 2-7                   [32, 512, 28, 28]         --\n",
       "│    │    └─Conv2d: 3-57                 [32, 128, 28, 28]         65,536\n",
       "│    │    └─BatchNorm2d: 3-58            [32, 128, 28, 28]         256\n",
       "│    │    └─ReLU: 3-59                   [32, 128, 28, 28]         --\n",
       "│    │    └─Conv2d: 3-60                 [32, 128, 28, 28]         147,456\n",
       "│    │    └─BatchNorm2d: 3-61            [32, 128, 28, 28]         256\n",
       "│    │    └─ReLU: 3-62                   [32, 128, 28, 28]         --\n",
       "│    │    └─Conv2d: 3-63                 [32, 512, 28, 28]         65,536\n",
       "│    │    └─BatchNorm2d: 3-64            [32, 512, 28, 28]         1,024\n",
       "│    │    └─ReLU: 3-65                   [32, 512, 28, 28]         --\n",
       "├─Sequential: 1-7                        [32, 1024, 14, 14]        --\n",
       "│    └─Bottleneck: 2-8                   [32, 1024, 14, 14]        --\n",
       "│    │    └─Conv2d: 3-66                 [32, 256, 28, 28]         131,072\n",
       "│    │    └─BatchNorm2d: 3-67            [32, 256, 28, 28]         512\n",
       "│    │    └─ReLU: 3-68                   [32, 256, 28, 28]         --\n",
       "│    │    └─Conv2d: 3-69                 [32, 256, 14, 14]         589,824\n",
       "│    │    └─BatchNorm2d: 3-70            [32, 256, 14, 14]         512\n",
       "│    │    └─ReLU: 3-71                   [32, 256, 14, 14]         --\n",
       "│    │    └─Conv2d: 3-72                 [32, 1024, 14, 14]        262,144\n",
       "│    │    └─BatchNorm2d: 3-73            [32, 1024, 14, 14]        2,048\n",
       "│    │    └─Sequential: 3-74             [32, 1024, 14, 14]        526,336\n",
       "│    │    └─ReLU: 3-75                   [32, 1024, 14, 14]        --\n",
       "│    └─Bottleneck: 2-9                   [32, 1024, 14, 14]        --\n",
       "│    │    └─Conv2d: 3-76                 [32, 256, 14, 14]         262,144\n",
       "│    │    └─BatchNorm2d: 3-77            [32, 256, 14, 14]         512\n",
       "│    │    └─ReLU: 3-78                   [32, 256, 14, 14]         --\n",
       "│    │    └─Conv2d: 3-79                 [32, 256, 14, 14]         589,824\n",
       "│    │    └─BatchNorm2d: 3-80            [32, 256, 14, 14]         512\n",
       "│    │    └─ReLU: 3-81                   [32, 256, 14, 14]         --\n",
       "│    │    └─Conv2d: 3-82                 [32, 1024, 14, 14]        262,144\n",
       "│    │    └─BatchNorm2d: 3-83            [32, 1024, 14, 14]        2,048\n",
       "│    │    └─ReLU: 3-84                   [32, 1024, 14, 14]        --\n",
       "│    └─Bottleneck: 2-10                  [32, 1024, 14, 14]        --\n",
       "│    │    └─Conv2d: 3-85                 [32, 256, 14, 14]         262,144\n",
       "│    │    └─BatchNorm2d: 3-86            [32, 256, 14, 14]         512\n",
       "│    │    └─ReLU: 3-87                   [32, 256, 14, 14]         --\n",
       "│    │    └─Conv2d: 3-88                 [32, 256, 14, 14]         589,824\n",
       "│    │    └─BatchNorm2d: 3-89            [32, 256, 14, 14]         512\n",
       "│    │    └─ReLU: 3-90                   [32, 256, 14, 14]         --\n",
       "│    │    └─Conv2d: 3-91                 [32, 1024, 14, 14]        262,144\n",
       "│    │    └─BatchNorm2d: 3-92            [32, 1024, 14, 14]        2,048\n",
       "│    │    └─ReLU: 3-93                   [32, 1024, 14, 14]        --\n",
       "│    └─Bottleneck: 2-11                  [32, 1024, 14, 14]        --\n",
       "│    │    └─Conv2d: 3-94                 [32, 256, 14, 14]         262,144\n",
       "│    │    └─BatchNorm2d: 3-95            [32, 256, 14, 14]         512\n",
       "│    │    └─ReLU: 3-96                   [32, 256, 14, 14]         --\n",
       "│    │    └─Conv2d: 3-97                 [32, 256, 14, 14]         589,824\n",
       "│    │    └─BatchNorm2d: 3-98            [32, 256, 14, 14]         512\n",
       "│    │    └─ReLU: 3-99                   [32, 256, 14, 14]         --\n",
       "│    │    └─Conv2d: 3-100                [32, 1024, 14, 14]        262,144\n",
       "│    │    └─BatchNorm2d: 3-101           [32, 1024, 14, 14]        2,048\n",
       "│    │    └─ReLU: 3-102                  [32, 1024, 14, 14]        --\n",
       "│    └─Bottleneck: 2-12                  [32, 1024, 14, 14]        --\n",
       "│    │    └─Conv2d: 3-103                [32, 256, 14, 14]         262,144\n",
       "│    │    └─BatchNorm2d: 3-104           [32, 256, 14, 14]         512\n",
       "│    │    └─ReLU: 3-105                  [32, 256, 14, 14]         --\n",
       "│    │    └─Conv2d: 3-106                [32, 256, 14, 14]         589,824\n",
       "│    │    └─BatchNorm2d: 3-107           [32, 256, 14, 14]         512\n",
       "│    │    └─ReLU: 3-108                  [32, 256, 14, 14]         --\n",
       "│    │    └─Conv2d: 3-109                [32, 1024, 14, 14]        262,144\n",
       "│    │    └─BatchNorm2d: 3-110           [32, 1024, 14, 14]        2,048\n",
       "│    │    └─ReLU: 3-111                  [32, 1024, 14, 14]        --\n",
       "│    └─Bottleneck: 2-13                  [32, 1024, 14, 14]        --\n",
       "│    │    └─Conv2d: 3-112                [32, 256, 14, 14]         262,144\n",
       "│    │    └─BatchNorm2d: 3-113           [32, 256, 14, 14]         512\n",
       "│    │    └─ReLU: 3-114                  [32, 256, 14, 14]         --\n",
       "│    │    └─Conv2d: 3-115                [32, 256, 14, 14]         589,824\n",
       "│    │    └─BatchNorm2d: 3-116           [32, 256, 14, 14]         512\n",
       "│    │    └─ReLU: 3-117                  [32, 256, 14, 14]         --\n",
       "│    │    └─Conv2d: 3-118                [32, 1024, 14, 14]        262,144\n",
       "│    │    └─BatchNorm2d: 3-119           [32, 1024, 14, 14]        2,048\n",
       "│    │    └─ReLU: 3-120                  [32, 1024, 14, 14]        --\n",
       "├─Sequential: 1-8                        [32, 2048, 7, 7]          --\n",
       "│    └─Bottleneck: 2-14                  [32, 2048, 7, 7]          --\n",
       "│    │    └─Conv2d: 3-121                [32, 512, 14, 14]         524,288\n",
       "│    │    └─BatchNorm2d: 3-122           [32, 512, 14, 14]         1,024\n",
       "│    │    └─ReLU: 3-123                  [32, 512, 14, 14]         --\n",
       "│    │    └─Conv2d: 3-124                [32, 512, 7, 7]           2,359,296\n",
       "│    │    └─BatchNorm2d: 3-125           [32, 512, 7, 7]           1,024\n",
       "│    │    └─ReLU: 3-126                  [32, 512, 7, 7]           --\n",
       "│    │    └─Conv2d: 3-127                [32, 2048, 7, 7]          1,048,576\n",
       "│    │    └─BatchNorm2d: 3-128           [32, 2048, 7, 7]          4,096\n",
       "│    │    └─Sequential: 3-129            [32, 2048, 7, 7]          2,101,248\n",
       "│    │    └─ReLU: 3-130                  [32, 2048, 7, 7]          --\n",
       "│    └─Bottleneck: 2-15                  [32, 2048, 7, 7]          --\n",
       "│    │    └─Conv2d: 3-131                [32, 512, 7, 7]           1,048,576\n",
       "│    │    └─BatchNorm2d: 3-132           [32, 512, 7, 7]           1,024\n",
       "│    │    └─ReLU: 3-133                  [32, 512, 7, 7]           --\n",
       "│    │    └─Conv2d: 3-134                [32, 512, 7, 7]           2,359,296\n",
       "│    │    └─BatchNorm2d: 3-135           [32, 512, 7, 7]           1,024\n",
       "│    │    └─ReLU: 3-136                  [32, 512, 7, 7]           --\n",
       "│    │    └─Conv2d: 3-137                [32, 2048, 7, 7]          1,048,576\n",
       "│    │    └─BatchNorm2d: 3-138           [32, 2048, 7, 7]          4,096\n",
       "│    │    └─ReLU: 3-139                  [32, 2048, 7, 7]          --\n",
       "│    └─Bottleneck: 2-16                  [32, 2048, 7, 7]          --\n",
       "│    │    └─Conv2d: 3-140                [32, 512, 7, 7]           1,048,576\n",
       "│    │    └─BatchNorm2d: 3-141           [32, 512, 7, 7]           1,024\n",
       "│    │    └─ReLU: 3-142                  [32, 512, 7, 7]           --\n",
       "│    │    └─Conv2d: 3-143                [32, 512, 7, 7]           2,359,296\n",
       "│    │    └─BatchNorm2d: 3-144           [32, 512, 7, 7]           1,024\n",
       "│    │    └─ReLU: 3-145                  [32, 512, 7, 7]           --\n",
       "│    │    └─Conv2d: 3-146                [32, 2048, 7, 7]          1,048,576\n",
       "│    │    └─BatchNorm2d: 3-147           [32, 2048, 7, 7]          4,096\n",
       "│    │    └─ReLU: 3-148                  [32, 2048, 7, 7]          --\n",
       "├─AdaptiveAvgPool2d: 1-9                 [32, 2048, 1, 1]          --\n",
       "├─Linear: 1-10                           [32, 4]                   8,196\n",
       "==========================================================================================\n",
       "Total params: 23,516,228\n",
       "Trainable params: 23,516,228\n",
       "Non-trainable params: 0\n",
       "Total mult-adds (Units.GIGABYTES): 130.79\n",
       "==========================================================================================\n",
       "Input size (MB): 19.27\n",
       "Forward/backward pass size (MB): 5690.36\n",
       "Params size (MB): 94.06\n",
       "Estimated Total Size (MB): 5803.69\n",
       "=========================================================================================="
      ]
     },
     "execution_count": 15,
     "metadata": {},
     "output_type": "execute_result"
    }
   ],
   "source": [
    "total_class = 4\n",
    "learning_rate = 0.0001\n",
    "\n",
    "model = models.resnet50(pretrained=True)\n",
    "\n",
    "num_ftrs = model.fc.in_features\n",
    "model.fc = nn.Linear(num_ftrs, total_class)\n",
    "model = model.to(device)\n",
    "\n",
    "optimizer = optim.Adam(model.parameters(), lr=learning_rate)\n",
    "criterion = nn.CrossEntropyLoss()\n",
    "summary(model, input_size=(train_batch, 3, 224, 224))"
   ]
  },
  {
   "cell_type": "markdown",
   "id": "f7e40bd4",
   "metadata": {
    "id": "a24a8be1",
    "papermill": {
     "duration": 0.00949,
     "end_time": "2025-07-13T10:55:37.173489",
     "exception": false,
     "start_time": "2025-07-13T10:55:37.163999",
     "status": "completed"
    },
    "tags": []
   },
   "source": [
    "### Training"
   ]
  },
  {
   "cell_type": "code",
   "execution_count": 16,
   "id": "d3e8a720",
   "metadata": {
    "execution": {
     "iopub.execute_input": "2025-07-13T10:55:37.193547Z",
     "iopub.status.busy": "2025-07-13T10:55:37.192831Z",
     "iopub.status.idle": "2025-07-13T10:57:15.221033Z",
     "shell.execute_reply": "2025-07-13T10:57:15.220300Z"
    },
    "executionInfo": {
     "elapsed": 1659736,
     "status": "ok",
     "timestamp": 1716720631970,
     "user": {
      "displayName": "Beautiful Mind",
      "userId": "18088270031962857328"
     },
     "user_tz": -360
    },
    "id": "1lynG8bMd4dr",
    "outputId": "c169f19b-5a28-44a5-8c5d-eb10a66a353e",
    "papermill": {
     "duration": 98.039921,
     "end_time": "2025-07-13T10:57:15.222553",
     "exception": false,
     "start_time": "2025-07-13T10:55:37.182632",
     "status": "completed"
    },
    "tags": []
   },
   "outputs": [
    {
     "name": "stderr",
     "output_type": "stream",
     "text": [
      "Epoch 1/30: 100%|██████████| 35/35 [00:07<00:00,  4.93it/s, acc=0.927, loss=0.246]"
     ]
    },
    {
     "name": "stdout",
     "output_type": "stream",
     "text": [
      "Training Loss: 0.246 Acc: 0.927\n"
     ]
    },
    {
     "name": "stderr",
     "output_type": "stream",
     "text": [
      "\n"
     ]
    },
    {
     "name": "stdout",
     "output_type": "stream",
     "text": [
      "Validation Loss: 0.087 Acc: 0.967\n",
      "Best model saved at epoch 1 with validation accuracy: 0.967\n"
     ]
    },
    {
     "name": "stderr",
     "output_type": "stream",
     "text": [
      "Epoch 2/30: 100%|██████████| 35/35 [00:06<00:00,  5.36it/s, acc=0.988, loss=0.0443]"
     ]
    },
    {
     "name": "stdout",
     "output_type": "stream",
     "text": [
      "Training Loss: 0.044 Acc: 0.988\n"
     ]
    },
    {
     "name": "stderr",
     "output_type": "stream",
     "text": [
      "\n"
     ]
    },
    {
     "name": "stdout",
     "output_type": "stream",
     "text": [
      "Validation Loss: 0.040 Acc: 0.988\n",
      "Best model saved at epoch 2 with validation accuracy: 0.988\n"
     ]
    },
    {
     "name": "stderr",
     "output_type": "stream",
     "text": [
      "Epoch 3/30: 100%|██████████| 35/35 [00:06<00:00,  5.36it/s, acc=1, loss=0.006]"
     ]
    },
    {
     "name": "stdout",
     "output_type": "stream",
     "text": [
      "Training Loss: 0.006 Acc: 1.000\n"
     ]
    },
    {
     "name": "stderr",
     "output_type": "stream",
     "text": [
      "\n"
     ]
    },
    {
     "name": "stdout",
     "output_type": "stream",
     "text": [
      "Validation Loss: 0.002 Acc: 1.000\n",
      "Best model saved at epoch 3 with validation accuracy: 1.000\n"
     ]
    },
    {
     "name": "stderr",
     "output_type": "stream",
     "text": [
      "Epoch 4/30: 100%|██████████| 35/35 [00:06<00:00,  5.32it/s, acc=0.996, loss=0.0118]"
     ]
    },
    {
     "name": "stdout",
     "output_type": "stream",
     "text": [
      "Training Loss: 0.012 Acc: 0.996\n"
     ]
    },
    {
     "name": "stderr",
     "output_type": "stream",
     "text": [
      "\n"
     ]
    },
    {
     "name": "stdout",
     "output_type": "stream",
     "text": [
      "Validation Loss: 0.003 Acc: 1.000\n"
     ]
    },
    {
     "name": "stderr",
     "output_type": "stream",
     "text": [
      "Epoch 5/30: 100%|██████████| 35/35 [00:06<00:00,  5.33it/s, acc=0.998, loss=0.00722]"
     ]
    },
    {
     "name": "stdout",
     "output_type": "stream",
     "text": [
      "Training Loss: 0.007 Acc: 0.998\n"
     ]
    },
    {
     "name": "stderr",
     "output_type": "stream",
     "text": [
      "\n"
     ]
    },
    {
     "name": "stdout",
     "output_type": "stream",
     "text": [
      "Validation Loss: 0.006 Acc: 1.000\n"
     ]
    },
    {
     "name": "stderr",
     "output_type": "stream",
     "text": [
      "Epoch 6/30: 100%|██████████| 35/35 [00:06<00:00,  5.36it/s, acc=0.999, loss=0.0109]"
     ]
    },
    {
     "name": "stdout",
     "output_type": "stream",
     "text": [
      "Training Loss: 0.011 Acc: 0.999\n"
     ]
    },
    {
     "name": "stderr",
     "output_type": "stream",
     "text": [
      "\n"
     ]
    },
    {
     "name": "stdout",
     "output_type": "stream",
     "text": [
      "Validation Loss: 0.001 Acc: 1.000\n"
     ]
    },
    {
     "name": "stderr",
     "output_type": "stream",
     "text": [
      "Epoch 7/30: 100%|██████████| 35/35 [00:06<00:00,  5.36it/s, acc=1, loss=0.00144]"
     ]
    },
    {
     "name": "stdout",
     "output_type": "stream",
     "text": [
      "Training Loss: 0.001 Acc: 1.000\n"
     ]
    },
    {
     "name": "stderr",
     "output_type": "stream",
     "text": [
      "\n"
     ]
    },
    {
     "name": "stdout",
     "output_type": "stream",
     "text": [
      "Validation Loss: 0.002 Acc: 1.000\n"
     ]
    },
    {
     "name": "stderr",
     "output_type": "stream",
     "text": [
      "Epoch 8/30: 100%|██████████| 35/35 [00:06<00:00,  5.35it/s, acc=0.997, loss=0.00494]"
     ]
    },
    {
     "name": "stdout",
     "output_type": "stream",
     "text": [
      "Training Loss: 0.005 Acc: 0.997\n"
     ]
    },
    {
     "name": "stderr",
     "output_type": "stream",
     "text": [
      "\n"
     ]
    },
    {
     "name": "stdout",
     "output_type": "stream",
     "text": [
      "Validation Loss: 0.043 Acc: 0.983\n"
     ]
    },
    {
     "name": "stderr",
     "output_type": "stream",
     "text": [
      "Epoch 9/30: 100%|██████████| 35/35 [00:06<00:00,  5.34it/s, acc=0.991, loss=0.0297]"
     ]
    },
    {
     "name": "stdout",
     "output_type": "stream",
     "text": [
      "Training Loss: 0.030 Acc: 0.991\n"
     ]
    },
    {
     "name": "stderr",
     "output_type": "stream",
     "text": [
      "\n"
     ]
    },
    {
     "name": "stdout",
     "output_type": "stream",
     "text": [
      "Validation Loss: 0.291 Acc: 0.904\n"
     ]
    },
    {
     "name": "stderr",
     "output_type": "stream",
     "text": [
      "Epoch 10/30: 100%|██████████| 35/35 [00:06<00:00,  5.36it/s, acc=0.996, loss=0.00995]"
     ]
    },
    {
     "name": "stdout",
     "output_type": "stream",
     "text": [
      "Training Loss: 0.010 Acc: 0.996\n"
     ]
    },
    {
     "name": "stderr",
     "output_type": "stream",
     "text": [
      "\n"
     ]
    },
    {
     "name": "stdout",
     "output_type": "stream",
     "text": [
      "Validation Loss: 0.017 Acc: 0.992\n"
     ]
    },
    {
     "name": "stderr",
     "output_type": "stream",
     "text": [
      "Epoch 11/30: 100%|██████████| 35/35 [00:06<00:00,  5.34it/s, acc=1, loss=0.00326]"
     ]
    },
    {
     "name": "stdout",
     "output_type": "stream",
     "text": [
      "Training Loss: 0.003 Acc: 1.000\n"
     ]
    },
    {
     "name": "stderr",
     "output_type": "stream",
     "text": [
      "\n"
     ]
    },
    {
     "name": "stdout",
     "output_type": "stream",
     "text": [
      "Validation Loss: 0.018 Acc: 0.992\n"
     ]
    },
    {
     "name": "stderr",
     "output_type": "stream",
     "text": [
      "Epoch 12/30: 100%|██████████| 35/35 [00:06<00:00,  5.36it/s, acc=0.998, loss=0.00498]"
     ]
    },
    {
     "name": "stdout",
     "output_type": "stream",
     "text": [
      "Training Loss: 0.005 Acc: 0.998\n"
     ]
    },
    {
     "name": "stderr",
     "output_type": "stream",
     "text": [
      "\n"
     ]
    },
    {
     "name": "stdout",
     "output_type": "stream",
     "text": [
      "Validation Loss: 0.481 Acc: 0.883\n"
     ]
    },
    {
     "name": "stderr",
     "output_type": "stream",
     "text": [
      "Epoch 13/30: 100%|██████████| 35/35 [00:06<00:00,  5.30it/s, acc=0.996, loss=0.0176]"
     ]
    },
    {
     "name": "stdout",
     "output_type": "stream",
     "text": [
      "Training Loss: 0.018 Acc: 0.996\n"
     ]
    },
    {
     "name": "stderr",
     "output_type": "stream",
     "text": [
      "\n"
     ]
    },
    {
     "name": "stdout",
     "output_type": "stream",
     "text": [
      "Validation Loss: 0.006 Acc: 1.000\n",
      "Early stopping criteria met. No improvement in validation accuracy or validation loss for 10 consecutive epochs. Training stopped.\n",
      "Training Time: 97.62 seconds ---> 1.63 minutes\n"
     ]
    }
   ],
   "source": [
    "start_time = time.time()\n",
    "\n",
    "def train_model(model, criterion, optimizer, dataloader_train_dataset, dataloader_valid_dataset, num_epochs=30, early_stop_patience=10, save_path_checkpoints=\"checkpoints\"):\n",
    "    train_loss_history = []\n",
    "    train_acc_history = []\n",
    "    val_loss_history = []\n",
    "    val_acc_history = []\n",
    "\n",
    "    best_val_acc = 0.0\n",
    "    consecutive_no_improvement = 0\n",
    "    num_epochs_loss_greater = 0\n",
    "\n",
    "    for epoch in range(num_epochs):\n",
    "        # Training phase\n",
    "        model.train()\n",
    "        running_loss = 0.0\n",
    "        correct_train = 0\n",
    "        total_train = 0\n",
    "\n",
    "        progress_bar = tqdm(enumerate(dataloader_train_dataset), total=len(dataloader_train_dataset))\n",
    "        for i, (inputs, labels) in progress_bar:\n",
    "            inputs, labels = inputs.to(device), labels.to(device)\n",
    "            optimizer.zero_grad()\n",
    "            outputs = model(inputs)\n",
    "            loss = criterion(outputs, labels)\n",
    "            loss.backward()\n",
    "            optimizer.step()\n",
    "            _, predicted = torch.max(outputs, 1)\n",
    "            running_loss += loss.item() * inputs.size(0)\n",
    "            total_train += labels.size(0)\n",
    "            correct_train += (predicted == labels).sum().item()\n",
    "\n",
    "            progress_bar.set_description(f\"Epoch {epoch+1}/{num_epochs}\")\n",
    "            progress_bar.set_postfix(loss=running_loss / total_train, acc=correct_train / total_train)\n",
    "        epoch_train_loss = running_loss / total_train\n",
    "        epoch_train_acc = correct_train / total_train\n",
    "        train_loss_history.append(epoch_train_loss)\n",
    "        train_acc_history.append(epoch_train_acc)\n",
    "\n",
    "        print('Training Loss: {:.3f} Acc: {:.3f}'.format(epoch_train_loss, epoch_train_acc))\n",
    "\n",
    "        # Validation phase\n",
    "        model.eval()\n",
    "        running_loss = 0.0\n",
    "        correct_val = 0\n",
    "        total_val = 0\n",
    "\n",
    "        with torch.no_grad():\n",
    "            for inputs, labels in dataloader_valid_dataset:\n",
    "                inputs, labels = inputs.to(device), labels.to(device)\n",
    "                outputs = model(inputs)\n",
    "                loss = criterion(outputs, labels)\n",
    "                _, predicted = torch.max(outputs, 1)\n",
    "                running_loss += loss.item() * inputs.size(0)\n",
    "                total_val += labels.size(0)\n",
    "                correct_val += (predicted == labels).sum().item()\n",
    "\n",
    "        epoch_val_loss = running_loss / total_val\n",
    "        epoch_val_acc = correct_val / total_val\n",
    "        val_loss_history.append(epoch_val_loss)\n",
    "        val_acc_history.append(epoch_val_acc)\n",
    "\n",
    "        print('Validation Loss: {:.3f} Acc: {:.3f}'.format(epoch_val_loss, epoch_val_acc))\n",
    "\n",
    "        # Check for early stopping\n",
    "        if epoch_val_acc > best_val_acc:\n",
    "            best_val_acc = epoch_val_acc\n",
    "            best_epoch = epoch + 1\n",
    "            filepath = f\"{save_path_checkpoints}/model.pt\"\n",
    "            checkpoint = {\n",
    "                \"epoch\": epoch + 1,\n",
    "                \"model_weight\": model.state_dict(),\n",
    "                \"optimizer_state\": optimizer.state_dict()\n",
    "            }\n",
    "            torch.save(checkpoint, filepath)\n",
    "            print(f\"Best model saved at epoch {best_epoch} with validation accuracy: {best_val_acc:.3f}\")\n",
    "            consecutive_no_improvement = 0\n",
    "        else:\n",
    "            consecutive_no_improvement += 1\n",
    "\n",
    "        if epoch_val_loss > epoch_train_loss:\n",
    "            num_epochs_loss_greater += 1\n",
    "        else:\n",
    "            num_epochs_loss_greater = 0\n",
    "\n",
    "        if consecutive_no_improvement >= early_stop_patience or num_epochs_loss_greater >= early_stop_patience:\n",
    "            print(f\"Early stopping criteria met. No improvement in validation accuracy or validation loss for {early_stop_patience} consecutive epochs. Training stopped.\")\n",
    "            break\n",
    "\n",
    "    return train_loss_history, train_acc_history, val_loss_history, val_acc_history\n",
    "\n",
    "\n",
    "train_loss_history, train_acc_history, val_loss_history, val_acc_history = train_model(model, criterion, optimizer, dataloader_train_dataset, dataloader_valid_dataset, save_path_checkpoints=save_path_checkpoints)\n",
    "\n",
    "end_time = time.time()\n",
    "training_time = end_time - start_time\n",
    "print(f\"Training Time: {training_time:.2f} seconds ---> {training_time/60:.2f} minutes\")\n",
    "\n",
    "data = {\n",
    "    'Epoch': list(range(1, len(train_loss_history) + 1)),\n",
    "    'Train Loss': train_loss_history,\n",
    "    'Train Accuracy': train_acc_history,\n",
    "    'Validation Loss': val_loss_history,\n",
    "    'Validation Accuracy': val_acc_history\n",
    "}\n",
    "\n",
    "history = pd.DataFrame(data)\n",
    "history.to_excel('/kaggle/working/training_data.xlsx', index=False)"
   ]
  },
  {
   "cell_type": "code",
   "execution_count": 17,
   "id": "665b9ca6",
   "metadata": {
    "execution": {
     "iopub.execute_input": "2025-07-13T10:57:15.353649Z",
     "iopub.status.busy": "2025-07-13T10:57:15.353223Z",
     "iopub.status.idle": "2025-07-13T10:57:15.605907Z",
     "shell.execute_reply": "2025-07-13T10:57:15.605137Z"
    },
    "executionInfo": {
     "elapsed": 1179,
     "status": "ok",
     "timestamp": 1716720662690,
     "user": {
      "displayName": "Beautiful Mind",
      "userId": "18088270031962857328"
     },
     "user_tz": -360
    },
    "id": "Bs1FUrKPDWWC",
    "outputId": "a54b441e-e417-485d-f648-dc7ffccabd0c",
    "papermill": {
     "duration": 0.319387,
     "end_time": "2025-07-13T10:57:15.607112",
     "exception": false,
     "start_time": "2025-07-13T10:57:15.287725",
     "status": "completed"
    },
    "tags": []
   },
   "outputs": [
    {
     "data": {
      "image/png": "[encoded data removed]",
      "text/plain": [
       "<Figure size 1200x400 with 2 Axes>"
      ]
     },
     "metadata": {},
     "output_type": "display_data"
    }
   ],
   "source": [
    "epochs = list(range(1, len(train_loss_history) + 1))\n",
    "\n",
    "plt.figure(figsize=(12, 4))\n",
    "\n",
    "plt.subplot(1, 2, 1)\n",
    "plt.plot(epochs, train_loss_history, label='Train Loss')\n",
    "plt.plot(epochs, val_loss_history, label='Validation Loss')\n",
    "plt.xlabel('Epochs')\n",
    "plt.ylabel('Loss')\n",
    "plt.legend(loc='upper right')\n",
    "plt.ylim(0, 2)\n",
    "\n",
    "plt.subplot(1, 2, 2)\n",
    "plt.plot(epochs, train_acc_history, label='Train Accuracy')\n",
    "plt.plot(epochs, val_acc_history, label='Validation Accuracy')\n",
    "plt.xlabel('Epochs')\n",
    "plt.ylabel('Accuracy')\n",
    "plt.legend(loc='lower right')\n",
    "plt.ylim(0, 1.1)\n",
    "\n",
    "plt.show()\n"
   ]
  },
  {
   "cell_type": "markdown",
   "id": "67454ffd",
   "metadata": {
    "id": "8e4eead2",
    "papermill": {
     "duration": 0.064412,
     "end_time": "2025-07-13T10:57:15.737981",
     "exception": false,
     "start_time": "2025-07-13T10:57:15.673569",
     "status": "completed"
    },
    "tags": []
   },
   "source": [
    "### Evaluation"
   ]
  },
  {
   "cell_type": "code",
   "execution_count": 18,
   "id": "65c72652",
   "metadata": {
    "execution": {
     "iopub.execute_input": "2025-07-13T10:57:15.869086Z",
     "iopub.status.busy": "2025-07-13T10:57:15.868576Z",
     "iopub.status.idle": "2025-07-13T10:57:15.873794Z",
     "shell.execute_reply": "2025-07-13T10:57:15.873211Z"
    },
    "executionInfo": {
     "elapsed": 413,
     "status": "ok",
     "timestamp": 1716720671380,
     "user": {
      "displayName": "Beautiful Mind",
      "userId": "18088270031962857328"
     },
     "user_tz": -360
    },
    "id": "7xeKVCHMqhJY",
    "papermill": {
     "duration": 0.072571,
     "end_time": "2025-07-13T10:57:15.874885",
     "exception": false,
     "start_time": "2025-07-13T10:57:15.802314",
     "status": "completed"
    },
    "tags": []
   },
   "outputs": [],
   "source": [
    "def evaluate_model(model, criterion, dataloader):\n",
    "    model.eval()\n",
    "    running_loss = 0.0\n",
    "    correct = 0\n",
    "    total = 0\n",
    "\n",
    "    with torch.no_grad():\n",
    "        for inputs, labels in dataloader:\n",
    "            inputs, labels = inputs.to(device), labels.to(device)\n",
    "            outputs = model(inputs)\n",
    "            loss = criterion(outputs, labels)\n",
    "            _, predicted = torch.max(outputs, 1)\n",
    "            running_loss += loss.item() * inputs.size(0)\n",
    "            total += labels.size(0)\n",
    "            correct += (predicted == labels).sum().item()\n",
    "\n",
    "    loss = running_loss / total\n",
    "    accuracy = correct / total\n",
    "\n",
    "    return loss, accuracy"
   ]
  },
  {
   "cell_type": "code",
   "execution_count": 19,
   "id": "260c5e53",
   "metadata": {
    "execution": {
     "iopub.execute_input": "2025-07-13T10:57:16.004804Z",
     "iopub.status.busy": "2025-07-13T10:57:16.004509Z",
     "iopub.status.idle": "2025-07-13T10:57:17.050842Z",
     "shell.execute_reply": "2025-07-13T10:57:17.049923Z"
    },
    "executionInfo": {
     "elapsed": 2711,
     "status": "ok",
     "timestamp": 1716720680835,
     "user": {
      "displayName": "Beautiful Mind",
      "userId": "18088270031962857328"
     },
     "user_tz": -360
    },
    "id": "901810fc",
    "outputId": "1cf0a886-f401-4887-c94d-5636436f5303",
    "papermill": {
     "duration": 1.112604,
     "end_time": "2025-07-13T10:57:17.052134",
     "exception": false,
     "start_time": "2025-07-13T10:57:15.939530",
     "status": "completed"
    },
    "tags": []
   },
   "outputs": [
    {
     "name": "stdout",
     "output_type": "stream",
     "text": [
      "Best model (from epoch 3) - Validation Loss: 0.002, Validation Accuracy: 1.000\n"
     ]
    }
   ],
   "source": [
    "best_checkpoint_path = f\"{save_path_checkpoints}/model.pt\"\n",
    "checkpoint = torch.load(best_checkpoint_path)\n",
    "best_epoch = checkpoint[\"epoch\"]\n",
    "model.load_state_dict(checkpoint[\"model_weight\"])\n",
    "optimizer.load_state_dict(checkpoint[\"optimizer_state\"])\n",
    "\n",
    "best_val_loss, best_val_accuracy = evaluate_model(model, criterion, dataloader_valid_dataset)\n",
    "print(f\"Best model (from epoch {best_epoch}) - Validation Loss: {best_val_loss:.3f}, Validation Accuracy: {best_val_accuracy:.3f}\")"
   ]
  },
  {
   "cell_type": "code",
   "execution_count": 20,
   "id": "b0ed4fdf",
   "metadata": {
    "execution": {
     "iopub.execute_input": "2025-07-13T10:57:17.183808Z",
     "iopub.status.busy": "2025-07-13T10:57:17.183030Z",
     "iopub.status.idle": "2025-07-13T10:57:18.288014Z",
     "shell.execute_reply": "2025-07-13T10:57:18.287045Z"
    },
    "executionInfo": {
     "elapsed": 70105,
     "status": "ok",
     "timestamp": 1716720752547,
     "user": {
      "displayName": "Beautiful Mind",
      "userId": "18088270031962857328"
     },
     "user_tz": -360
    },
    "id": "86HEuGa9Np1U",
    "outputId": "31645e38-753f-459f-bc22-b26b284c6ace",
    "papermill": {
     "duration": 1.172282,
     "end_time": "2025-07-13T10:57:18.289437",
     "exception": false,
     "start_time": "2025-07-13T10:57:17.117155",
     "status": "completed"
    },
    "tags": []
   },
   "outputs": [
    {
     "name": "stdout",
     "output_type": "stream",
     "text": [
      "Test Accuracy: 1.000\n",
      "Test Time: 1.10 seconds ---> 0.02 minutes\n"
     ]
    }
   ],
   "source": [
    "start_time = time.time()\n",
    "\n",
    "test_loss, test_accuracy = evaluate_model(model, criterion, dataloader_test_dataset)\n",
    "print(f\"Test Accuracy: {test_accuracy:.3f}\")\n",
    "\n",
    "end_time = time.time()\n",
    "test_time = end_time - start_time\n",
    "print(f\"Test Time: {test_time:.2f} seconds ---> {test_time/60:.2f} minutes\")"
   ]
  },
  {
   "cell_type": "code",
   "execution_count": 21,
   "id": "79a7649d",
   "metadata": {
    "execution": {
     "iopub.execute_input": "2025-07-13T10:57:18.421960Z",
     "iopub.status.busy": "2025-07-13T10:57:18.421636Z",
     "iopub.status.idle": "2025-07-13T10:57:19.906394Z",
     "shell.execute_reply": "2025-07-13T10:57:19.905363Z"
    },
    "executionInfo": {
     "elapsed": 12895,
     "status": "ok",
     "timestamp": 1716720773041,
     "user": {
      "displayName": "Beautiful Mind",
      "userId": "18088270031962857328"
     },
     "user_tz": -360
    },
    "id": "4b3b5b94",
    "outputId": "fb407e4e-61b0-4d0c-9183-1bd0313fcfe0",
    "papermill": {
     "duration": 1.553533,
     "end_time": "2025-07-13T10:57:19.908127",
     "exception": false,
     "start_time": "2025-07-13T10:57:18.354594",
     "status": "completed"
    },
    "tags": []
   },
   "outputs": [
    {
     "name": "stdout",
     "output_type": "stream",
     "text": [
      "Classification Report:\n",
      "              precision    recall  f1-score   support\n",
      "\n",
      "           0       1.00      1.00      1.00        60\n",
      "           1       1.00      1.00      1.00        60\n",
      "           2       1.00      1.00      1.00        60\n",
      "           3       1.00      1.00      1.00        60\n",
      "\n",
      "    accuracy                           1.00       240\n",
      "   macro avg       1.00      1.00      1.00       240\n",
      "weighted avg       1.00      1.00      1.00       240\n",
      "\n",
      "Class 0 Accuracy: 1.000\n",
      "Class 1 Accuracy: 1.000\n",
      "Class 2 Accuracy: 1.000\n",
      "Class 3 Accuracy: 1.000\n"
     ]
    }
   ],
   "source": [
    "def class_accuracy(model, dataloader, num_classes):\n",
    "    class_correct = [0.0] * num_classes\n",
    "    class_total = [0.0] * num_classes\n",
    "\n",
    "    model.eval()\n",
    "    with torch.no_grad():\n",
    "        for inputs, labels in dataloader:\n",
    "            inputs, labels = inputs.to(device), labels.to(device)\n",
    "            outputs = model(inputs)\n",
    "            _, predicted = torch.max(outputs, 1)\n",
    "            correct = (predicted == labels)\n",
    "            for i in range(len(labels)):\n",
    "                label = labels[i]\n",
    "                class_correct[label] += correct[i].item()\n",
    "                class_total[label] += 1\n",
    "\n",
    "    class_accuracy = [class_correct[i] / class_total[i] if class_total[i] > 0 else 0 for i in range(num_classes)]\n",
    "\n",
    "    return class_accuracy\n",
    "\n",
    "y_true = []\n",
    "y_pred = []\n",
    "\n",
    "model.eval()\n",
    "with torch.no_grad():\n",
    "    for inputs, labels in dataloader_test_dataset:\n",
    "        inputs, labels = inputs.to(device), labels.to(device)\n",
    "        outputs = model(inputs)\n",
    "        _, predicted = torch.max(outputs, 1)\n",
    "        y_true.extend(labels.cpu().numpy())\n",
    "        y_pred.extend(predicted.cpu().numpy())\n",
    "\n",
    "y_true = np.array(y_true)\n",
    "y_pred = np.array(y_pred)\n",
    "\n",
    "class_names = [str(i) for i in range(total_class)]\n",
    "\n",
    "print(\"Classification Report:\")\n",
    "print(classification_report(y_true, y_pred, target_names=class_names))\n",
    "\n",
    "class_acc = class_accuracy(model, dataloader_test_dataset, total_class)\n",
    "for i in range(total_class):\n",
    "    print(f\"Class {i} Accuracy: {class_acc[i]:.3f}\")"
   ]
  }
 ],
 "metadata": {
  "accelerator": "GPU",
  "colab": {
   "gpuType": "T4",
   "provenance": []
  },
  "kaggle": {
   "accelerator": "gpu",
   "dataSources": [
    {
     "datasetId": 7857521,
     "sourceId": 12456315,
     "sourceType": "datasetVersion"
    }
   ],
   "dockerImageVersionId": 31090,
   "isGpuEnabled": true,
   "isInternetEnabled": true,
   "language": "python",
   "sourceType": "notebook"
  },
  "kernelspec": {
   "display_name": "Python 3",
   "name": "python3"
  },
  "language_info": {
   "codemirror_mode": {
    "name": "ipython",
    "version": 3
   },
   "file_extension": ".py",
   "mimetype": "text/x-python",
   "name": "python",
   "nbconvert_exporter": "python",
   "pygments_lexer": "ipython3",
   "version": "3.11.13"
  },
  "papermill": {
   "default_parameters": {},
   "duration": 129.367411,
   "end_time": "2025-07-13T10:57:22.831658",
   "environment_variables": {},
   "exception": null,
   "input_path": "__notebook__.ipynb",
   "output_path": "__notebook__.ipynb",
   "parameters": {},
   "start_time": "2025-07-13T10:55:13.464247",
   "version": "2.6.0"
  }
 },
 "nbformat": 4,
 "nbformat_minor": 5
}
